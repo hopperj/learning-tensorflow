{
 "cells": [
  {
   "cell_type": "markdown",
   "metadata": {
    "deletable": true,
    "editable": true
   },
   "source": [
    "# Goal\n",
    "\n",
    "The goal of notebook is to experiment with using a MLP Neural Network to model an unknown function. Data will be generated with the function, and have noise added to loosely simulate experimental data. These noisy data points will then be partitoned into testing and training data for the network.\n",
    "\n",
    "While the main goal of this is experimentation and learning, this technique may be useful in the case where a user has a data set governed by an unknown function. This technique can be used to model the unknown function, so it can be used on new data, or further analyzed.\n",
    "\n",
    "# What this isn't\n",
    "\n",
    "This notebook is not indended to explain the innter workings of Tensorflow, nor is it indended to be used by anyone unfamiliar with Multilayer Perception Neural Networks. This is an example use of Tensorflow Neural Networks to solve a general problem."
   ]
  },
  {
   "cell_type": "code",
   "execution_count": 3,
   "metadata": {
    "collapsed": false,
    "deletable": true,
    "editable": true
   },
   "outputs": [],
   "source": [
    "%matplotlib inline\n",
    "import tensorflow as tf\n",
    "import numpy as np\n",
    "import matplotlib.pyplot as plt\n",
    "from random import shuffle\n",
    "from IPython import display"
   ]
  },
  {
   "cell_type": "code",
   "execution_count": null,
   "metadata": {
    "collapsed": true,
    "deletable": true,
    "editable": true
   },
   "outputs": [],
   "source": [
    "training_epochs = 3500\n",
    "display_step = training_epochs*0.1\n",
    "make_epoch_plots = 0\n",
    "num_examples = 5000\n",
    "test_fraction = 0.75"
   ]
  },
  {
   "cell_type": "markdown",
   "metadata": {
    "deletable": true,
    "editable": true
   },
   "source": [
    "#### Use a set seed to make things easily repeatable"
   ]
  },
  {
   "cell_type": "code",
   "execution_count": 5,
   "metadata": {
    "collapsed": true,
    "deletable": true,
    "editable": true
   },
   "outputs": [],
   "source": [
    "np.random.seed(1000)"
   ]
  },
  {
   "cell_type": "markdown",
   "metadata": {
    "deletable": true,
    "editable": true
   },
   "source": [
    "### Test Functions\n",
    "\n",
    "Return whatever you like from f(x). In place currently is a 'chirp' function for demonstration"
   ]
  },
  {
   "cell_type": "code",
   "execution_count": 6,
   "metadata": {
    "collapsed": true,
    "deletable": true,
    "editable": true
   },
   "outputs": [],
   "source": [
    "def w(x):\n",
    "    return 2.0*np.pi*x\n",
    "\n",
    "def f(x):\n",
    "#     return np.sin(x) + 0.1*np.random.randn(*x.shape)\n",
    "#     return np.cos(x/np.pi)\n",
    "#     return np.cos(x) + np.sin(x/np.pi)\n",
    "    # A*sin(w(t)*t), where w(t) = 2*pi*t\n",
    "    return np.sin( w(x)*x/1.5 )+ 0.1*np.random.randn(*x.shape)"
   ]
  },
  {
   "cell_type": "code",
   "execution_count": 14,
   "metadata": {
    "collapsed": true,
    "deletable": true,
    "editable": true
   },
   "outputs": [],
   "source": [
    "n_input = 1\n",
    "hidden_nodes = 50\n",
    "n_hidden_0 = hidden_nodes\n",
    "n_hidden_1 = hidden_nodes\n",
    "n_hidden_2 = hidden_nodes\n",
    "n_hidden_3 = hidden_nodes\n",
    "n_hidden_4 = hidden_nodes\n",
    "n_hidden_5 = hidden_nodes\n",
    "n_hidden_6 = hidden_nodes\n",
    "\n",
    "num_of_hidden_layers = 7\n",
    "n_output = n_input"
   ]
  },
  {
   "cell_type": "markdown",
   "metadata": {
    "deletable": true,
    "editable": true
   },
   "source": [
    "### X data generation\n",
    "\n",
    "Generate equally spaced x data and plot example function values"
   ]
  },
  {
   "cell_type": "code",
   "execution_count": 15,
   "metadata": {
    "collapsed": false,
    "deletable": true,
    "editable": true
   },
   "outputs": [
    {
     "data": {
      "text/plain": [
       "<matplotlib.collections.PathCollection at 0x7f647cb1a048>"
      ]
     },
     "execution_count": 15,
     "metadata": {},
     "output_type": "execute_result"
    },
    {
     "data": {
      "image/png": "[encoded data removed]",
      "text/plain": [
       "<matplotlib.figure.Figure at 0x7f647cf26f98>"
      ]
     },
     "metadata": {},
     "output_type": "display_data"
    }
   ],
   "source": [
    "all_x = np.random.uniform(0*np.pi, np.pi, (1, num_examples)).T\n",
    "plt.scatter(all_x, f(all_x), c='g')"
   ]
  },
  {
   "cell_type": "markdown",
   "metadata": {
    "deletable": true,
    "editable": true
   },
   "source": [
    "### Training/Testing Set Creation\n",
    "\n",
    "Create shuffled data. Split into training and testing sets based on the `test_fraction` value"
   ]
  },
  {
   "cell_type": "code",
   "execution_count": 16,
   "metadata": {
    "collapsed": true,
    "deletable": true,
    "editable": true
   },
   "outputs": [],
   "source": [
    "np.random.shuffle(all_x)\n",
    "train_size = int(num_examples*test_fraction)\n",
    "\n",
    "# Partition data\n",
    "x_training = all_x[:train_size]\n",
    "x_testing = all_x[train_size:]\n",
    "y_training = f(x_training)\n",
    "y_testing = f(x_testing)"
   ]
  },
  {
   "cell_type": "markdown",
   "metadata": {
    "deletable": true,
    "editable": true
   },
   "source": [
    "### Generated data plotting\n",
    "\n",
    "Plot test and training data for visual inspection"
   ]
  },
  {
   "cell_type": "code",
   "execution_count": 17,
   "metadata": {
    "collapsed": false,
    "deletable": true,
    "editable": true
   },
   "outputs": [
    {
     "data": {
      "text/plain": [
       "<matplotlib.legend.Legend at 0x7f647caa69b0>"
      ]
     },
     "execution_count": 17,
     "metadata": {},
     "output_type": "execute_result"
    },
    {
     "data": {
      "image/png": "[encoded data removed]",
      "text/plain": [
       "<matplotlib.figure.Figure at 0x7f647cb27908>"
      ]
     },
     "metadata": {},
     "output_type": "display_data"
    }
   ],
   "source": [
    "plt.figure(1)\n",
    "plt.scatter(x_training, y_training, c='green', label='train')\n",
    "plt.scatter(x_testing, y_testing, c='red', label='validation')\n",
    "plt.legend()"
   ]
  },
  {
   "cell_type": "code",
   "execution_count": 18,
   "metadata": {
    "collapsed": true,
    "deletable": true,
    "editable": true
   },
   "outputs": [],
   "source": [
    "tf.reset_default_graph()"
   ]
  },
  {
   "cell_type": "markdown",
   "metadata": {
    "deletable": true,
    "editable": true
   },
   "source": [
    "### Graph Creation\n",
    "\n",
    "Create a network with 7 hidden layers. This number is chosen only for example. Depending on the chosen f(x), additional or fewer layers may be needed. similarily the number of nodes in each layer can be tuned for specific choices of functions.\n",
    "\n",
    "The NN function function takes an input tensor and number of hidden layers. It will then use the weight tensors defined in `weights`, and use biases defined in `biases`."
   ]
  },
  {
   "cell_type": "code",
   "execution_count": 19,
   "metadata": {
    "collapsed": false,
    "deletable": true,
    "editable": true
   },
   "outputs": [],
   "source": [
    "X = tf.placeholder(\"float\", [None, n_input], name='X')\n",
    "Y = tf.placeholder(\"float\", [None, n_output], name='Y')\n",
    "\n",
    "\n",
    "weights = {\n",
    "    'h0': tf.Variable(tf.random_normal([n_input, n_hidden_1])),\n",
    "    'h1': tf.Variable(tf.random_normal([n_hidden_0, n_hidden_1])),\n",
    "    'h2': tf.Variable(tf.random_normal([n_hidden_1, n_hidden_2])),\n",
    "    'h3': tf.Variable(tf.random_normal([n_hidden_2, n_hidden_3])),\n",
    "    'h4': tf.Variable(tf.random_normal([n_hidden_3, n_hidden_4])),\n",
    "    'h5': tf.Variable(tf.random_normal([n_hidden_4, n_hidden_5])),\n",
    "    'h6': tf.Variable(tf.random_normal([n_hidden_5, n_hidden_6])),\n",
    "    'out': tf.Variable(tf.random_normal([n_hidden_6, n_output])),\n",
    "}\n",
    "\n",
    "biases = {\n",
    "    'h0': tf.Variable(tf.random_normal([n_hidden_0])),\n",
    "    'h1': tf.Variable(tf.random_normal([n_hidden_1])),\n",
    "    'h2': tf.Variable(tf.random_normal([n_hidden_2])),\n",
    "    'h3': tf.Variable(tf.random_normal([n_hidden_3])),\n",
    "    'h4': tf.Variable(tf.random_normal([n_hidden_4])),\n",
    "    'h5': tf.Variable(tf.random_normal([n_hidden_5])),\n",
    "    'h6': tf.Variable(tf.random_normal([n_hidden_6])),\n",
    "    'out': tf.Variable(tf.random_normal([n_output])),\n",
    "}\n",
    "\n",
    "\n",
    "def NN(input_layer, n):\n",
    "    '''\n",
    "        x: Input Tensor\n",
    "        n: number of hidden layers to build\n",
    "        \n",
    "        Returns: output layer\n",
    "        \n",
    "        Builds a network starting with `input_layer`, containing n hidden\n",
    "        layers, and returns `output` layer.\n",
    "    '''\n",
    "    def __build_hidden(inpt_layer, n):\n",
    "        # Layer Number counter\n",
    "        ln = 0\n",
    "        layer = tf.nn.sigmoid(\n",
    "                tf.add(\n",
    "                    tf.matmul(\n",
    "                        inpt_layer, weights['h%d'%(ln)],\n",
    "                        name='layer%d'%(ln)\n",
    "                    ),\n",
    "                    biases['h%d'%(ln)]\n",
    "                )\n",
    "            )\n",
    "        # Increment Layer Number\n",
    "        ln += 1\n",
    "        while ln < n:\n",
    "            layer = tf.nn.sigmoid(\n",
    "                tf.add(\n",
    "                    tf.matmul(\n",
    "                        layer, weights['h%d'%(ln)],\n",
    "                        name='layer%d'%(ln)\n",
    "                    ),\n",
    "                    biases['h%d'%(ln)]\n",
    "                )\n",
    "            )\n",
    "            ln += 1\n",
    "        return layer        \n",
    "    \n",
    "    \n",
    "    layer = __build_hidden(input_layer, n)\n",
    "    \n",
    "    output = tf.add(\n",
    "                tf.matmul(\n",
    "                    layer, weights['out'],\n",
    "                    name=\"out\"\n",
    "                ),\n",
    "                biases['out']\n",
    "            )\n",
    "    return output\n"
   ]
  },
  {
   "cell_type": "markdown",
   "metadata": {
    "deletable": true,
    "editable": true
   },
   "source": [
    "### Network and Training Optimizer Initialization\n",
    "\n",
    "Build Neural Network using `NN()` function. Create cost function, and link optimizer."
   ]
  },
  {
   "cell_type": "code",
   "execution_count": 20,
   "metadata": {
    "collapsed": false,
    "deletable": true,
    "editable": true
   },
   "outputs": [],
   "source": [
    "output = NN(X, num_of_hidden_layers)\n",
    "cost = tf.reduce_mean(tf.pow(output - Y, 2))\n",
    "optimizer = tf.train.AdamOptimizer().minimize(tf.nn.l2_loss(output - Y))"
   ]
  },
  {
   "cell_type": "code",
   "execution_count": 21,
   "metadata": {
    "collapsed": true,
    "deletable": true,
    "editable": true
   },
   "outputs": [],
   "source": [
    "init = tf.global_variables_initializer()"
   ]
  },
  {
   "cell_type": "code",
   "execution_count": 22,
   "metadata": {
    "collapsed": true,
    "deletable": true,
    "editable": true
   },
   "outputs": [],
   "source": [
    "sess = tf.InteractiveSession()"
   ]
  },
  {
   "cell_type": "markdown",
   "metadata": {
    "deletable": true,
    "editable": true
   },
   "source": [
    "### Training\n",
    "\n",
    "Train network on training set. Track network error on validation set as well as test set. At marked epoches, print the current cost, and plot the networks best ability to model the data. This plotting makes the training *much* slower. Modifying the `make_epoch_plots` condition is an easy way to enable/disable it."
   ]
  },
  {
   "cell_type": "code",
   "execution_count": null,
   "metadata": {
    "collapsed": false,
    "deletable": true,
    "editable": true
   },
   "outputs": [
    {
     "name": "stdout",
     "output_type": "stream",
     "text": [
      "Epoch: 000\tCost: 16.209127426\n",
      "Epoch: 350\tCost: 0.363540649\n",
      "Epoch: 700\tCost: 0.275665879\n",
      "Epoch: 1050\tCost: 0.189253241\n",
      "Epoch: 1400\tCost: 0.124012671\n",
      "Epoch: 1750\tCost: 0.091503061\n"
     ]
    }
   ],
   "source": [
    "costs = []\n",
    "epoches = []\n",
    "total_error = []\n",
    "sess.run(init)\n",
    "\n",
    "for epoch in range(training_epochs):\n",
    "    _, c = sess.run(\n",
    "        [ optimizer, cost ],\n",
    "        feed_dict={\n",
    "            X:x_training,\n",
    "            Y:y_training\n",
    "        }\n",
    "    )\n",
    "\n",
    "\n",
    "    costs.append(c)\n",
    "    epoches.append(epoch)\n",
    "    \n",
    "    mse = sess.run(tf.nn.l2_loss(output - y_testing),  feed_dict={X:x_testing})\n",
    "    total_error.append(mse)\n",
    "\n",
    "    \n",
    "    \n",
    "    if epoch%display_step == 0:\n",
    "        print('Epoch: %03d\\tCost: %.9f'%(epoch, c))\n",
    "\n",
    "        if make_epoch_plots:\n",
    "            fig = plt.figure(figsize=(20,8))\n",
    "            plt.scatter( x_testing, y_testing, color='g')\n",
    "            plt.scatter( x_testing, sess.run(output, feed_dict={X: x_testing}), color='r')\n",
    "            display.display(plt.gcf())\n",
    "            display.clear_output(wait=True)\n",
    "            plt.show()\n",
    "            # Uncomment the following line to save images\n",
    "            # fig.savefig(\"%4d_training_plot.jpg\"%(epoch))\n",
    "\n",
    "    \n",
    "print('Epoch: %03d\\tMSE: %.4e'%(epoch+1, c))\n",
    "print('Training complete!')\n",
    "\n"
   ]
  },
  {
   "cell_type": "code",
   "execution_count": null,
   "metadata": {
    "collapsed": false,
    "deletable": true,
    "editable": true
   },
   "outputs": [],
   "source": [
    "plt.plot( epoches, costs, 'b' )\n",
    "plt.title('Training set error')\n",
    "plt.xlabel('epoch')\n",
    "plt.ylabel('mean squared error')\n",
    "plt.show()"
   ]
  },
  {
   "cell_type": "code",
   "execution_count": null,
   "metadata": {
    "collapsed": false,
    "deletable": true,
    "editable": true
   },
   "outputs": [],
   "source": [
    "plt.plot( epoches, total_error, 'b' )\n",
    "plt.title('Test set error')\n",
    "plt.xlabel('epoch')\n",
    "plt.ylabel('mean squared error')\n",
    "plt.show()"
   ]
  },
  {
   "cell_type": "markdown",
   "metadata": {
    "deletable": true,
    "editable": true
   },
   "source": [
    "### Model Prediction\n",
    "\n",
    "Plot the model across all data, overalyed with original data."
   ]
  },
  {
   "cell_type": "code",
   "execution_count": null,
   "metadata": {
    "collapsed": false,
    "deletable": true,
    "editable": true
   },
   "outputs": [],
   "source": [
    "fig = plt.figure(figsize=(20,8))\n",
    "plt.title('Neural Network Function Model')\n",
    "plt.xlabel('Y')\n",
    "plt.ylabel('X')\n",
    "plt.scatter( all_x, f(all_x), color='g', label='Real Data')\n",
    "plt.scatter( all_x, sess.run(output, feed_dict={X: all_x}), color='r', label='Model Data')\n",
    "plt.legend()\n",
    "\n",
    "\n",
    "plt.show()"
   ]
  },
  {
   "cell_type": "markdown",
   "metadata": {
    "deletable": true,
    "editable": true
   },
   "source": [
    "### Conclusion\n",
    "\n",
    "This model is able to fit the chirp function well. The network does start to have trouble as the frequency increases too much. This can be viewed by removing the period modifier in the original function `f(x)`."
   ]
  },
  {
   "cell_type": "code",
   "execution_count": null,
   "metadata": {
    "collapsed": true,
    "deletable": true,
    "editable": true
   },
   "outputs": [],
   "source": []
  }
 ],
 "metadata": {
  "kernelspec": {
   "display_name": "Python 3",
   "language": "python",
   "name": "python3"
  },
  "language_info": {
   "codemirror_mode": {
    "name": "ipython",
    "version": 3
   },
   "file_extension": ".py",
   "mimetype": "text/x-python",
   "name": "python",
   "nbconvert_exporter": "python",
   "pygments_lexer": "ipython3",
   "version": "3.6.0"
  }
 },
 "nbformat": 4,
 "nbformat_minor": 2
}
